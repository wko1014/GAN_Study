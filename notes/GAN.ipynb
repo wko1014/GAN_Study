{
  "nbformat": 4,
  "nbformat_minor": 0,
  "metadata": {
    "colab": {
      "name": "1st_week.ipynb",
      "provenance": [],
      "collapsed_sections": [],
      "include_colab_link": true
    },
    "kernelspec": {
      "name": "python3",
      "display_name": "Python 3"
    },
    "accelerator": "TPU"
  },
  "cells": [
    {
      "cell_type": "markdown",
      "metadata": {
        "id": "view-in-github",
        "colab_type": "text"
      },
      "source": [
        "<a href=\"https://colab.research.google.com/github/wko1014/GAN_Study/blob/main/notes/GAN.ipynb\" target=\"_parent\"><img src=\"https://colab.research.google.com/assets/colab-badge.svg\" alt=\"Open In Colab\"/></a>"
      ]
    },
    {
      "metadata": {
        "id": "GAw_U-RTwH6D",
        "outputId": "fb733687-c25e-4dde-82b2-e73bd8bab7da",
        "colab": {
          "base_uri": "https://localhost:8080/",
          "height": 84
        }
      },
      "cell_type": "code",
      "source": [
        "# Import APIs\n",
        "import tensorflow as tf\n",
        "import matplotlib.pyplot as plt\n",
        "import numpy as np\n",
        "\n",
        "# Download MNIST Dataset\n",
        "from tensorflow.examples.tutorials.mnist import input_data\n",
        "mnist = input_data.read_data_sets(\"./MNIST_data/data/\", one_hot=True)"
      ],
      "execution_count": null,
      "outputs": [
        {
          "output_type": "stream",
          "text": [
            "Extracting ./MNIST_data/data/train-images-idx3-ubyte.gz\n",
            "Extracting ./MNIST_data/data/train-labels-idx1-ubyte.gz\n",
            "Extracting ./MNIST_data/data/t10k-images-idx3-ubyte.gz\n",
            "Extracting ./MNIST_data/data/t10k-labels-idx1-ubyte.gz\n"
          ],
          "name": "stdout"
        }
      ]
    },
    {
      "metadata": {
        "id": "sPP1Oe0C5oG4"
      },
      "cell_type": "code",
      "source": [
        "# Define Hyperparameters and Placehoders\n",
        "epochs = 100\n",
        "batch_size = 100\n",
        "learning_rate = 2e-4\n",
        "n_noise = 128\n",
        "n_image = 28*28 # The size of MNIST\n",
        "\n",
        "X = tf.placeholder(tf.float32, [None, n_image])\n",
        "Z = tf.placeholder(tf.float32, [None, n_noise])"
      ],
      "execution_count": null,
      "outputs": []
    },
    {
      "metadata": {
        "id": "K7G7cHwFwl3H"
      },
      "cell_type": "code",
      "source": [
        "# Define Modules\n",
        "def get_params(name, shape):\n",
        "  weight = tf.get_variable(name=name+\"w\", shape=shape, initializer=tf.random_normal_initializer(stddev=0.01))\n",
        "  filtercnt = shape[-1]\n",
        "  bias = tf.get_variable(name=name+\"b\", shape=[filtercnt], initializer=tf.zeros_initializer)\n",
        "  return weight, bias"
      ],
      "execution_count": null,
      "outputs": []
    },
    {
      "metadata": {
        "id": "e4qMDrAa0WXA"
      },
      "cell_type": "code",
      "source": [
        "# Define Generator (George)\n",
        "def generator(noise):\n",
        "    with tf.variable_scope(\"george\"):\n",
        "        G_w1, G_b1 = get_params(name=\"g_layer1\", shape=[n_noise, 256])\n",
        "        layer1 = tf.nn.relu(tf.matmul(noise, G_w1) + G_b1)\n",
        "\n",
        "        G_wo, G_bo = get_params(name=\"g_output_layer\", shape=[256, n_image])\n",
        "        output = tf.nn.sigmoid(tf.matmul(layer1, G_wo) + G_bo)\n",
        "    return output"
      ],
      "execution_count": null,
      "outputs": []
    },
    {
      "metadata": {
        "id": "tIDtU2AP2w8F"
      },
      "cell_type": "code",
      "source": [
        "# Define Discriminator (Danielle)\n",
        "def discriminator(image, reuse=False):\n",
        "    with tf.variable_scope(\"danielle\", reuse=reuse):\n",
        "        D_w1, D_b1 = get_params(name=\"d_layer1\", shape=[n_image, 256])\n",
        "        layer1 = tf.nn.relu(tf.matmul(image, D_w1) + D_b1)\n",
        "\n",
        "        D_wo, D_bo = get_params(name=\"d_output_layer\", shape=[256, 1])\n",
        "        output = tf.nn.sigmoid(tf.matmul(layer1, D_wo) + D_bo)\n",
        "    return output"
      ],
      "execution_count": null,
      "outputs": []
    },
    {
      "metadata": {
        "id": "spVy5zMR4F2s",
        "colab": {
          "base_uri": "https://localhost:8080/",
          "height": 87
        },
        "outputId": "69107d7f-d219-401c-f902-aa74dc4680c6"
      },
      "cell_type": "code",
      "source": [
        "# Sample Random Noise Vector\n",
        "def get_noise(batch_size, n_noise):\n",
        "  return np.random.normal(size=(batch_size, n_noise))\n",
        "\n",
        "# George Generates Counterfeits\n",
        "counterfeits = generator(noise=Z)\n",
        "\n",
        "# Danielle Discriminates Real Bills and Counterfeits\n",
        "D_counterfeits = discriminator(counterfeits)\n",
        "D_real = discriminator(X, reuse=True)"
      ],
      "execution_count": null,
      "outputs": [
        {
          "output_type": "stream",
          "text": [
            "WARNING:tensorflow:From /usr/local/lib/python3.6/dist-packages/tensorflow/python/framework/op_def_library.py:263: colocate_with (from tensorflow.python.framework.ops) is deprecated and will be removed in a future version.\n",
            "Instructions for updating:\n",
            "Colocations handled automatically by placer.\n"
          ],
          "name": "stdout"
        }
      ]
    },
    {
      "metadata": {
        "id": "aYrBBxt55Uwt"
      },
      "cell_type": "code",
      "source": [
        "# GANs Objective Function\n",
        "loss_G = tf.reduce_mean(tf.log(D_counterfeits))\n",
        "loss_D = tf.reduce_mean(tf.log(D_real) + tf.log(1 - D_counterfeits))"
      ],
      "execution_count": null,
      "outputs": []
    },
    {
      "metadata": {
        "id": "eorEHDOt8ZgZ"
      },
      "cell_type": "code",
      "source": [
        "# Collect George's and Danielle's Variables\n",
        "D_var_list = tf.get_collection(tf.GraphKeys.GLOBAL_VARIABLES, scope=\"danielle\")\n",
        "G_var_list = tf.get_collection(tf.GraphKeys.GLOBAL_VARIABLES, scope=\"george\")\n",
        "\n",
        "# Optimization using Adam Optimizer\n",
        "train_D = tf.train.AdamOptimizer(learning_rate).minimize(-loss_D, var_list=D_var_list)\n",
        "train_G = tf.train.AdamOptimizer(learning_rate).minimize(-loss_G, var_list=G_var_list)"
      ],
      "execution_count": null,
      "outputs": []
    },
    {
      "metadata": {
        "id": "moITD33X8xbR",
        "outputId": "c94123a5-2efa-4b1d-af51-ade9694f4fef",
        "colab": {
          "base_uri": "https://localhost:8080/",
          "height": 1714
        }
      },
      "cell_type": "code",
      "source": [
        "# Nerual Networks Training\n",
        "sess = tf.Session()\n",
        "sess.run(tf.global_variables_initializer())\n",
        "\n",
        "total_batch = int(mnist.train.num_examples / batch_size)\n",
        "loss_var_D, loss_var_G = 0, 0\n",
        "\n",
        "for epoch in range(epochs):\n",
        "    for batch in range(total_batch):\n",
        "        batch_x, _ = mnist.train.next_batch(batch_size)\n",
        "        noise = get_noise(batch_size, n_noise)\n",
        "\n",
        "        _, loss_val_D = sess.run([train_D, loss_D], feed_dict={X: batch_x, Z: noise})\n",
        "        _, loss_val_G = sess.run([train_G, loss_G], feed_dict={Z: noise})\n",
        "\n",
        "    print(\"Epoch:\", \"%04d\" % epoch, \"D loss: {:.4}\".format(loss_val_D), \"G loss: {:.4}\".format(loss_val_G))\n",
        "\n",
        "\n",
        "    if epoch == 0 or (epoch + 1) % 10 == 0:\n",
        "        sample_size = 10\n",
        "        noise = get_noise(sample_size, n_noise)\n",
        "        generated_samples = sess.run(counterfeits, feed_dict={Z: noise})\n",
        "\n",
        "        fig, ax = plt.subplots(1, sample_size, figsize=(sample_size, 1))\n",
        "\n",
        "        for i in range(sample_size):\n",
        "            ax[i].set_axis_off()\n",
        "            ax[i].imshow(np.reshape(generated_samples[i], (28, 28)))\n",
        "\n",
        "        plt.savefig(\"./{}.png\".format(str(epoch).zfill(3)), bbox_inches=\"tight\")\n",
        "        plt.close(fig)\n",
        "\n",
        "print(\"Optimization Complete!\")"
      ],
      "execution_count": null,
      "outputs": [
        {
          "output_type": "stream",
          "text": [
            "Epoch: 0000 D loss: -0.3803 G loss: -2.326\n",
            "Epoch: 0001 D loss: -0.1617 G loss: -3.002\n",
            "Epoch: 0002 D loss: -0.1378 G loss: -3.081\n",
            "Epoch: 0003 D loss: -0.467 G loss: -1.82\n",
            "Epoch: 0004 D loss: -0.2576 G loss: -2.151\n",
            "Epoch: 0005 D loss: -0.2768 G loss: -2.637\n",
            "Epoch: 0006 D loss: -0.2494 G loss: -2.706\n",
            "Epoch: 0007 D loss: -0.2938 G loss: -2.227\n",
            "Epoch: 0008 D loss: -0.1932 G loss: -2.712\n",
            "Epoch: 0009 D loss: -0.2351 G loss: -2.738\n",
            "Epoch: 0010 D loss: -0.295 G loss: -2.754\n",
            "Epoch: 0011 D loss: -0.311 G loss: -2.583\n",
            "Epoch: 0012 D loss: -0.3575 G loss: -2.696\n",
            "Epoch: 0013 D loss: -0.158 G loss: -3.152\n",
            "Epoch: 0014 D loss: -0.2373 G loss: -2.746\n",
            "Epoch: 0015 D loss: -0.3423 G loss: -2.921\n",
            "Epoch: 0016 D loss: -0.2875 G loss: -2.673\n",
            "Epoch: 0017 D loss: -0.2837 G loss: -2.818\n",
            "Epoch: 0018 D loss: -0.3507 G loss: -3.002\n",
            "Epoch: 0019 D loss: -0.3156 G loss: -3.06\n",
            "Epoch: 0020 D loss: -0.3846 G loss: -2.966\n",
            "Epoch: 0021 D loss: -0.2957 G loss: -2.874\n",
            "Epoch: 0022 D loss: -0.2004 G loss: -3.31\n",
            "Epoch: 0023 D loss: -0.306 G loss: -3.136\n",
            "Epoch: 0024 D loss: -0.3357 G loss: -3.034\n",
            "Epoch: 0025 D loss: -0.2814 G loss: -2.771\n",
            "Epoch: 0026 D loss: -0.4006 G loss: -2.633\n",
            "Epoch: 0027 D loss: -0.5807 G loss: -2.824\n",
            "Epoch: 0028 D loss: -0.3226 G loss: -2.645\n",
            "Epoch: 0029 D loss: -0.5591 G loss: -3.092\n",
            "Epoch: 0030 D loss: -0.2933 G loss: -3.195\n",
            "Epoch: 0031 D loss: -0.3548 G loss: -2.801\n",
            "Epoch: 0032 D loss: -0.2907 G loss: -2.881\n",
            "Epoch: 0033 D loss: -0.3479 G loss: -2.665\n",
            "Epoch: 0034 D loss: -0.3885 G loss: -3.014\n",
            "Epoch: 0035 D loss: -0.4326 G loss: -2.839\n",
            "Epoch: 0036 D loss: -0.3669 G loss: -2.575\n",
            "Epoch: 0037 D loss: -0.4042 G loss: -3.027\n",
            "Epoch: 0038 D loss: -0.5362 G loss: -2.609\n",
            "Epoch: 0039 D loss: -0.4745 G loss: -2.631\n",
            "Epoch: 0040 D loss: -0.634 G loss: -2.472\n",
            "Epoch: 0041 D loss: -0.3647 G loss: -2.553\n",
            "Epoch: 0042 D loss: -0.7684 G loss: -2.295\n",
            "Epoch: 0043 D loss: -0.5531 G loss: -2.386\n",
            "Epoch: 0044 D loss: -0.5079 G loss: -2.819\n",
            "Epoch: 0045 D loss: -0.6217 G loss: -2.354\n",
            "Epoch: 0046 D loss: -0.4904 G loss: -2.245\n",
            "Epoch: 0047 D loss: -0.3935 G loss: -2.716\n",
            "Epoch: 0048 D loss: -0.644 G loss: -2.232\n",
            "Epoch: 0049 D loss: -0.48 G loss: -2.552\n",
            "Epoch: 0050 D loss: -0.5502 G loss: -2.592\n",
            "Epoch: 0051 D loss: -0.5248 G loss: -2.633\n",
            "Epoch: 0052 D loss: -0.7457 G loss: -1.955\n",
            "Epoch: 0053 D loss: -0.5648 G loss: -2.51\n",
            "Epoch: 0054 D loss: -0.6813 G loss: -2.275\n",
            "Epoch: 0055 D loss: -0.8227 G loss: -2.02\n",
            "Epoch: 0056 D loss: -0.5914 G loss: -2.599\n",
            "Epoch: 0057 D loss: -0.5367 G loss: -2.346\n",
            "Epoch: 0058 D loss: -0.5665 G loss: -2.345\n",
            "Epoch: 0059 D loss: -0.5788 G loss: -2.452\n",
            "Epoch: 0060 D loss: -0.5733 G loss: -2.142\n",
            "Epoch: 0061 D loss: -0.5895 G loss: -2.253\n",
            "Epoch: 0062 D loss: -0.5443 G loss: -2.246\n",
            "Epoch: 0063 D loss: -0.5873 G loss: -2.343\n",
            "Epoch: 0064 D loss: -0.754 G loss: -2.057\n",
            "Epoch: 0065 D loss: -0.6589 G loss: -2.099\n",
            "Epoch: 0066 D loss: -0.6555 G loss: -2.424\n",
            "Epoch: 0067 D loss: -0.7248 G loss: -1.861\n",
            "Epoch: 0068 D loss: -0.7345 G loss: -2.103\n",
            "Epoch: 0069 D loss: -0.6434 G loss: -1.931\n",
            "Epoch: 0070 D loss: -0.5805 G loss: -2.386\n",
            "Epoch: 0071 D loss: -0.4854 G loss: -2.303\n",
            "Epoch: 0072 D loss: -0.516 G loss: -2.467\n",
            "Epoch: 0073 D loss: -0.6308 G loss: -2.285\n",
            "Epoch: 0074 D loss: -0.5653 G loss: -2.486\n",
            "Epoch: 0075 D loss: -0.7092 G loss: -2.275\n",
            "Epoch: 0076 D loss: -0.7023 G loss: -2.028\n",
            "Epoch: 0077 D loss: -0.8253 G loss: -2.094\n",
            "Epoch: 0078 D loss: -0.7307 G loss: -2.052\n",
            "Epoch: 0079 D loss: -0.6508 G loss: -1.835\n",
            "Epoch: 0080 D loss: -0.7013 G loss: -2.224\n",
            "Epoch: 0081 D loss: -0.5428 G loss: -2.008\n",
            "Epoch: 0082 D loss: -0.6116 G loss: -2.132\n",
            "Epoch: 0083 D loss: -0.5605 G loss: -2.261\n",
            "Epoch: 0084 D loss: -0.7243 G loss: -2.049\n",
            "Epoch: 0085 D loss: -0.6492 G loss: -2.243\n",
            "Epoch: 0086 D loss: -0.6644 G loss: -2.173\n",
            "Epoch: 0087 D loss: -0.5134 G loss: -2.402\n",
            "Epoch: 0088 D loss: -0.5776 G loss: -2.573\n",
            "Epoch: 0089 D loss: -0.5014 G loss: -2.33\n",
            "Epoch: 0090 D loss: -0.6763 G loss: -2.108\n",
            "Epoch: 0091 D loss: -0.6634 G loss: -2.472\n",
            "Epoch: 0092 D loss: -0.5005 G loss: -2.276\n",
            "Epoch: 0093 D loss: -0.6359 G loss: -2.583\n",
            "Epoch: 0094 D loss: -0.5512 G loss: -2.222\n",
            "Epoch: 0095 D loss: -0.5909 G loss: -2.382\n",
            "Epoch: 0096 D loss: -0.5931 G loss: -2.033\n",
            "Epoch: 0097 D loss: -0.6258 G loss: -2.363\n",
            "Epoch: 0098 D loss: -0.5751 G loss: -2.379\n",
            "Epoch: 0099 D loss: -0.4738 G loss: -2.483\n",
            "Optimization Complete!\n"
          ],
          "name": "stdout"
        }
      ]
    },
    {
      "metadata": {
        "id": "Wc-8oH7H-PCx",
        "outputId": "a1da47f3-990c-4bcb-cded-835c7d3fd668",
        "colab": {
          "base_uri": "https://localhost:8080/",
          "height": 113
        }
      },
      "cell_type": "code",
      "source": [
        "import matplotlib.image as mpimg\n",
        "\n",
        "img = mpimg.imread(\"./000.png\")\n",
        "plt.imshow(img)\n",
        "plt.show()"
      ],
      "execution_count": null,
      "outputs": [
        {
          "output_type": "display_data",
          "data": {
            "image/png": "[encoded data removed]",
            "text/plain": [
              "<Figure size 576x396 with 1 Axes>"
            ]
          },
          "metadata": {
            "tags": []
          }
        }
      ]
    },
    {
      "metadata": {
        "id": "fUE4FMe7FzI3",
        "outputId": "23da32c6-609e-46db-df54-745f267a3e3b",
        "colab": {
          "base_uri": "https://localhost:8080/",
          "height": 113
        }
      },
      "cell_type": "code",
      "source": [
        "img = mpimg.imread(\"./099.png\")\n",
        "plt.imshow(img)\n",
        "plt.show()"
      ],
      "execution_count": null,
      "outputs": [
        {
          "output_type": "display_data",
          "data": {
            "image/png": "[encoded data removed]",
            "text/plain": [
              "<Figure size 576x396 with 1 Axes>"
            ]
          },
          "metadata": {
            "tags": []
          }
        }
      ]
    },
    {
      "metadata": {
        "id": "SDcYyFeTdp1a"
      },
      "cell_type": "code",
      "source": [
        ""
      ],
      "execution_count": null,
      "outputs": []
    }
  ]
}
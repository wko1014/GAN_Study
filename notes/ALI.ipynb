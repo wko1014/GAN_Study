{
  "nbformat": 4,
  "nbformat_minor": 0,
  "metadata": {
    "colab": {
      "name": "ali.ipynb",
      "provenance": [],
      "collapsed_sections": [],
      "include_colab_link": true
    },
    "kernelspec": {
      "name": "python3",
      "display_name": "Python 3"
    }
  },
  "cells": [
    {
      "cell_type": "markdown",
      "metadata": {
        "id": "view-in-github",
        "colab_type": "text"
      },
      "source": [
        "<a href=\"https://colab.research.google.com/github/wko1014/GAN_Study/blob/main/notes/ALI.ipynb\" target=\"_parent\"><img src=\"https://colab.research.google.com/assets/colab-badge.svg\" alt=\"Open In Colab\"/></a>"
      ]
    },
    {
      "metadata": {
        "id": "ND-NhmzKpZb9"
      },
      "cell_type": "code",
      "source": [
        "import tensorflow as tf\n",
        "from tensorflow.examples.tutorials.mnist import input_data\n",
        "import numpy as np\n",
        "import matplotlib.pyplot as plt\n",
        "import matplotlib.gridspec as gridspec\n",
        "import os"
      ],
      "execution_count": null,
      "outputs": []
    },
    {
      "metadata": {
        "id": "HJUmBfEXr8nZ",
        "colab": {
          "base_uri": "https://localhost:8080/",
          "height": 406
        },
        "outputId": "bdc5e67c-7493-478b-cd70-5f47ec6ba192"
      },
      "cell_type": "code",
      "source": [
        "mb_size = 32\n",
        "X_dim = 784\n",
        "z_dim = 64\n",
        "h_dim = 128\n",
        "lr = 1e-3\n",
        "d_steps = 3\n",
        "\n",
        "mnist = input_data.read_data_sets('../../MNIST_data', one_hot=True)"
      ],
      "execution_count": null,
      "outputs": [
        {
          "output_type": "stream",
          "text": [
            "WARNING:tensorflow:From <ipython-input-2-69cded1763fd>:8: read_data_sets (from tensorflow.contrib.learn.python.learn.datasets.mnist) is deprecated and will be removed in a future version.\n",
            "Instructions for updating:\n",
            "Please use alternatives such as official/mnist/dataset.py from tensorflow/models.\n",
            "WARNING:tensorflow:From /usr/local/lib/python3.6/dist-packages/tensorflow/contrib/learn/python/learn/datasets/mnist.py:260: maybe_download (from tensorflow.contrib.learn.python.learn.datasets.base) is deprecated and will be removed in a future version.\n",
            "Instructions for updating:\n",
            "Please write your own downloading logic.\n",
            "WARNING:tensorflow:From /usr/local/lib/python3.6/dist-packages/tensorflow/contrib/learn/python/learn/datasets/mnist.py:262: extract_images (from tensorflow.contrib.learn.python.learn.datasets.mnist) is deprecated and will be removed in a future version.\n",
            "Instructions for updating:\n",
            "Please use tf.data to implement this functionality.\n",
            "Extracting ../../MNIST_data/train-images-idx3-ubyte.gz\n",
            "WARNING:tensorflow:From /usr/local/lib/python3.6/dist-packages/tensorflow/contrib/learn/python/learn/datasets/mnist.py:267: extract_labels (from tensorflow.contrib.learn.python.learn.datasets.mnist) is deprecated and will be removed in a future version.\n",
            "Instructions for updating:\n",
            "Please use tf.data to implement this functionality.\n",
            "Extracting ../../MNIST_data/train-labels-idx1-ubyte.gz\n",
            "WARNING:tensorflow:From /usr/local/lib/python3.6/dist-packages/tensorflow/contrib/learn/python/learn/datasets/mnist.py:110: dense_to_one_hot (from tensorflow.contrib.learn.python.learn.datasets.mnist) is deprecated and will be removed in a future version.\n",
            "Instructions for updating:\n",
            "Please use tf.one_hot on tensors.\n",
            "Extracting ../../MNIST_data/t10k-images-idx3-ubyte.gz\n",
            "Extracting ../../MNIST_data/t10k-labels-idx1-ubyte.gz\n",
            "WARNING:tensorflow:From /usr/local/lib/python3.6/dist-packages/tensorflow/contrib/learn/python/learn/datasets/mnist.py:290: DataSet.__init__ (from tensorflow.contrib.learn.python.learn.datasets.mnist) is deprecated and will be removed in a future version.\n",
            "Instructions for updating:\n",
            "Please use alternatives such as official/mnist/dataset.py from tensorflow/models.\n"
          ],
          "name": "stdout"
        }
      ]
    },
    {
      "metadata": {
        "id": "fFRtGXgvr9y2"
      },
      "cell_type": "code",
      "source": [
        "def plot(samples):\n",
        "    fig = plt.figure(figsize=(4, 4))\n",
        "    gs = gridspec.GridSpec(4, 4)\n",
        "    gs.update(wspace=0.05, hspace=0.05)\n",
        "\n",
        "    for i, sample in enumerate(samples):\n",
        "        ax = plt.subplot(gs[i])\n",
        "        plt.axis('off')\n",
        "        ax.set_xticklabels([])\n",
        "        ax.set_yticklabels([])\n",
        "        ax.set_aspect('equal')\n",
        "        plt.imshow(sample.reshape(28, 28), cmap='Greys_r')\n",
        "\n",
        "    return fig\n",
        "\n",
        "\n",
        "def xavier_init(size):\n",
        "    in_dim = size[0]\n",
        "    xavier_stddev = 1. / tf.sqrt(in_dim / 2.)\n",
        "    return tf.random_normal(shape=size, stddev=xavier_stddev)\n",
        "\n",
        "\n",
        "def log(x):\n",
        "    return tf.log(x + 1e-8)"
      ],
      "execution_count": null,
      "outputs": []
    },
    {
      "metadata": {
        "id": "BqeFJdP-r_gT",
        "colab": {
          "base_uri": "https://localhost:8080/",
          "height": 87
        },
        "outputId": "2d513a1b-de0c-4dda-94ab-db96c42abd71"
      },
      "cell_type": "code",
      "source": [
        "X = tf.placeholder(tf.float32, shape=[None, X_dim])\n",
        "z = tf.placeholder(tf.float32, shape=[None, z_dim])\n",
        "\n",
        "D_W1 = tf.Variable(xavier_init([X_dim + z_dim, h_dim]))\n",
        "D_b1 = tf.Variable(tf.zeros(shape=[h_dim]))\n",
        "D_W2 = tf.Variable(xavier_init([h_dim, 1]))\n",
        "D_b2 = tf.Variable(tf.zeros(shape=[1]))\n",
        "\n",
        "Q_W1 = tf.Variable(xavier_init([X_dim, h_dim]))\n",
        "Q_b1 = tf.Variable(tf.zeros(shape=[h_dim]))\n",
        "Q_W2 = tf.Variable(xavier_init([h_dim, z_dim]))\n",
        "Q_b2 = tf.Variable(tf.zeros(shape=[z_dim]))\n",
        "\n",
        "P_W1 = tf.Variable(xavier_init([z_dim, h_dim]))\n",
        "P_b1 = tf.Variable(tf.zeros(shape=[h_dim]))\n",
        "P_W2 = tf.Variable(xavier_init([h_dim, X_dim]))\n",
        "P_b2 = tf.Variable(tf.zeros(shape=[X_dim]))\n",
        "\n",
        "theta_G = [Q_W1, Q_W2, Q_b1, Q_b2, P_W1, P_W2, P_b1, P_b2]\n",
        "theta_D = [D_W1, D_W2, D_b1, D_b2]"
      ],
      "execution_count": null,
      "outputs": [
        {
          "output_type": "stream",
          "text": [
            "WARNING:tensorflow:From /usr/local/lib/python3.6/dist-packages/tensorflow/python/framework/op_def_library.py:263: colocate_with (from tensorflow.python.framework.ops) is deprecated and will be removed in a future version.\n",
            "Instructions for updating:\n",
            "Colocations handled automatically by placer.\n"
          ],
          "name": "stdout"
        }
      ]
    },
    {
      "metadata": {
        "id": "DUClnlfQsBBG"
      },
      "cell_type": "code",
      "source": [
        "def sample_z(m, n):\n",
        "    return np.random.uniform(-1., 1., size=[m, n])\n",
        "\n",
        "\n",
        "def Q(X):\n",
        "    h = tf.nn.relu(tf.matmul(X, Q_W1) + Q_b1)\n",
        "    h = tf.matmul(h, Q_W2) + Q_b2\n",
        "    return h\n",
        "\n",
        "\n",
        "def P(z):\n",
        "    h = tf.nn.relu(tf.matmul(z, P_W1) + P_b1)\n",
        "    h = tf.matmul(h, P_W2) + P_b2\n",
        "    return tf.nn.sigmoid(h)\n",
        "\n",
        "\n",
        "def D(X, z):\n",
        "    inputs = tf.concat([X, z], axis=1)\n",
        "    h = tf.nn.relu(tf.matmul(inputs, D_W1) + D_b1)\n",
        "    return tf.nn.sigmoid(tf.matmul(h, D_W2) + D_b2)"
      ],
      "execution_count": null,
      "outputs": []
    },
    {
      "metadata": {
        "id": "OPZ3qWDUsCqz"
      },
      "cell_type": "code",
      "source": [
        "z_hat = Q(X)\n",
        "X_hat = P(z)\n",
        "\n",
        "D_enc = D(X, z_hat)\n",
        "D_gen = D(X_hat, z)\n",
        "\n",
        "D_loss = -tf.reduce_mean(log(D_enc) + log(1 - D_gen))\n",
        "G_loss = -tf.reduce_mean(log(D_gen) + log(1 - D_enc))\n",
        "\n",
        "D_solver = (tf.train.AdamOptimizer(learning_rate=lr)\n",
        "            .minimize(D_loss, var_list=theta_D))\n",
        "G_solver = (tf.train.AdamOptimizer(learning_rate=lr)\n",
        "            .minimize(G_loss, var_list=theta_G))"
      ],
      "execution_count": null,
      "outputs": []
    },
    {
      "metadata": {
        "id": "l-Po3e0hsPcD",
        "colab": {
          "base_uri": "https://localhost:8080/",
          "height": 185
        },
        "outputId": "ce77a0bb-4e09-43d0-ed13-3a5f54116757"
      },
      "cell_type": "code",
      "source": [
        "sess = tf.Session()\n",
        "sess.run(tf.global_variables_initializer())\n",
        "\n",
        "if not os.path.exists('out/'):\n",
        "    os.makedirs('out/')\n",
        "\n",
        "i = 0\n",
        "\n",
        "for it in range(10000):\n",
        "    X_mb, _ = mnist.train.next_batch(mb_size)\n",
        "    z_mb = sample_z(mb_size, z_dim)\n",
        "\n",
        "    _, D_loss_curr = sess.run(\n",
        "        [D_solver, D_loss], feed_dict={X: X_mb, z: z_mb}\n",
        "    )\n",
        "\n",
        "    _, G_loss_curr = sess.run(\n",
        "        [G_solver, G_loss], feed_dict={X: X_mb, z: z_mb}\n",
        "    )\n",
        "\n",
        "    if it % 1000 == 0:\n",
        "        print('Iter: {}; D_loss: {:.4}; G_loss: {:.4}'\n",
        "              .format(it, D_loss_curr, G_loss_curr))\n",
        "\n",
        "        samples = sess.run(X_hat, feed_dict={z: sample_z(16, z_dim)})\n",
        "\n",
        "        fig = plot(samples)\n",
        "        plt.savefig('out/{}.png'\n",
        "                    .format(str(i).zfill(3)), bbox_inches='tight')\n",
        "        i += 1\n",
        "        plt.close(fig)"
      ],
      "execution_count": null,
      "outputs": [
        {
          "output_type": "stream",
          "text": [
            "Iter: 0; D_loss: 1.399; G_loss: 3.426\n",
            "Iter: 1000; D_loss: 0.005018; G_loss: 27.88\n",
            "Iter: 2000; D_loss: 0.01549; G_loss: 18.94\n",
            "Iter: 3000; D_loss: 1.352e-05; G_loss: 32.96\n",
            "Iter: 4000; D_loss: 0.01938; G_loss: 21.93\n",
            "Iter: 5000; D_loss: 0.004705; G_loss: 29.97\n",
            "Iter: 6000; D_loss: 0.007334; G_loss: 22.36\n",
            "Iter: 7000; D_loss: 0.05031; G_loss: 20.99\n",
            "Iter: 8000; D_loss: 0.1709; G_loss: 19.62\n",
            "Iter: 9000; D_loss: 0.2233; G_loss: 16.73\n"
          ],
          "name": "stdout"
        }
      ]
    },
    {
      "metadata": {
        "id": "LKlGIFmZsRNf"
      },
      "cell_type": "code",
      "source": [
        ""
      ],
      "execution_count": null,
      "outputs": []
    }
  ]
}
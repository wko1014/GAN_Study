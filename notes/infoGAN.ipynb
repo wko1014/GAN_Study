{
  "nbformat": 4,
  "nbformat_minor": 0,
  "metadata": {
    "colab": {
      "name": "infogan.ipynb",
      "provenance": [],
      "collapsed_sections": [],
      "include_colab_link": true
    },
    "kernelspec": {
      "name": "python3",
      "display_name": "Python 3"
    },
    "accelerator": "GPU"
  },
  "cells": [
    {
      "cell_type": "markdown",
      "metadata": {
        "id": "view-in-github",
        "colab_type": "text"
      },
      "source": [
        "<a href=\"https://colab.research.google.com/github/wko1014/GAN_Study/blob/main/notes/infoGAN.ipynb\" target=\"_parent\"><img src=\"https://colab.research.google.com/assets/colab-badge.svg\" alt=\"Open In Colab\"/></a>"
      ]
    },
    {
      "metadata": {
        "id": "Xb15P7Ng1NiM"
      },
      "cell_type": "code",
      "source": [
        "# Import APIs\n",
        "import tensorflow as tf\n",
        "import matplotlib.pyplot as plt\n",
        "import numpy as np"
      ],
      "execution_count": null,
      "outputs": []
    },
    {
      "metadata": {
        "id": "rAF4qk2C1QGT",
        "outputId": "8520b3d0-e223-4e73-e21f-5326c7435310",
        "colab": {
          "base_uri": "https://localhost:8080/",
          "height": 86
        }
      },
      "cell_type": "code",
      "source": [
        "# Download MNIST Dataset\n",
        "from tensorflow.examples.tutorials.mnist import input_data\n",
        "mnist = input_data.read_data_sets(\"./MNIST_data/data/\", one_hot=True)\n",
        "\n",
        "# Define Hyperparameters and Placehoders\n",
        "epochs = 100\n",
        "batch_size = 32\n",
        "learning_rate = 1e-3\n",
        "n_noise = 16\n",
        "n_code = 10\n",
        "n_image = 28 * 28 # The size of MNIST\n",
        "\n",
        "X = tf.placeholder(tf.float32, [None, n_image])\n",
        "Z = tf.placeholder(tf.float32, [None, n_noise])\n",
        "c1 = tf.placeholder(tf.float32, [None, n_code])"
      ],
      "execution_count": null,
      "outputs": [
        {
          "output_type": "stream",
          "text": [
            "Extracting ./MNIST_data/data/train-images-idx3-ubyte.gz\n",
            "Extracting ./MNIST_data/data/train-labels-idx1-ubyte.gz\n",
            "Extracting ./MNIST_data/data/t10k-images-idx3-ubyte.gz\n",
            "Extracting ./MNIST_data/data/t10k-labels-idx1-ubyte.gz\n"
          ],
          "name": "stdout"
        }
      ]
    },
    {
      "metadata": {
        "id": "ayLuI4CT1QIo"
      },
      "cell_type": "code",
      "source": [
        "# Define Modules\n",
        "def get_params(name, shape):\n",
        "  weight = tf.get_variable(name=name+\"w\", shape=shape, initializer=tf.random_normal_initializer(stddev=0.01))\n",
        "  filtercnt = shape[-1]\n",
        "  bias = tf.get_variable(name=name+\"b\", shape=[filtercnt], initializer=tf.zeros_initializer)\n",
        "  return weight, bias"
      ],
      "execution_count": null,
      "outputs": []
    },
    {
      "metadata": {
        "id": "P2nomMB91QKt"
      },
      "cell_type": "code",
      "source": [
        "# Define Generator (George)\n",
        "def generator(noise, code):\n",
        "    with tf.variable_scope(\"george\"):\n",
        "        inputs = tf.concat((noise, code), axis=1)\n",
        "\n",
        "        G_w1, G_b1 = get_params(name=\"g_layer1\", shape=[n_noise + n_code, 256])\n",
        "        layer1 = tf.nn.relu(tf.matmul(inputs, G_w1) + G_b1)\n",
        "\n",
        "        G_wo, G_bo = get_params(name=\"g_output_layer\", shape=[256, n_image])\n",
        "        output = tf.nn.sigmoid(tf.matmul(layer1, G_wo) + G_bo)\n",
        "    return output"
      ],
      "execution_count": null,
      "outputs": []
    },
    {
      "metadata": {
        "id": "dzF7p-wf1QMz"
      },
      "cell_type": "code",
      "source": [
        "# Define Discriminator (Danielle)\n",
        "def discriminator(image, reuse=False):\n",
        "    with tf.variable_scope(\"danielle\", reuse=reuse):\n",
        "        D_w1, D_b1 = get_params(name=\"d_layer1\", shape=[n_image, 128])\n",
        "        layer1 = tf.nn.relu(tf.matmul(image, D_w1) + D_b1)\n",
        "\n",
        "        D_wo, D_bo = get_params(name=\"d_output_layer\", shape=[128, 1])\n",
        "        output = tf.nn.sigmoid(tf.matmul(layer1, D_wo) + D_bo)\n",
        "    return output"
      ],
      "execution_count": null,
      "outputs": []
    },
    {
      "metadata": {
        "id": "qejvvelR1QO4"
      },
      "cell_type": "code",
      "source": [
        "# Define Auxiliary distribution Q\n",
        "def Q(inputs):\n",
        "    with tf.variable_scope(\"aux_distribution\"):\n",
        "        Q_w1, Q_b1 = get_params(name=\"q_layer1\", shape=[n_image, 128])\n",
        "        layer1 = tf.nn.relu(tf.matmul(inputs, Q_w1) + Q_b1)\n",
        "\n",
        "        Q_wo, Q_bo = get_params(name=\"q_output_layer\", shape=[128, n_code])\n",
        "        output = tf.nn.sigmoid(tf.matmul(layer1, Q_wo) + Q_bo)\n",
        "    return output"
      ],
      "execution_count": null,
      "outputs": []
    },
    {
      "metadata": {
        "id": "jrVJWvS_1QRP"
      },
      "cell_type": "code",
      "source": [
        "# Sample Random Noise Vector\n",
        "def get_noise(batch_size, n_noise):\n",
        "  return np.random.normal(size=(batch_size, n_noise))\n",
        "\n",
        "def get_code(batch_size):\n",
        "    return np.random.multinomial(1, 10*[0.1], size=batch_size)"
      ],
      "execution_count": null,
      "outputs": []
    },
    {
      "metadata": {
        "id": "QLUkNMxO1QTV",
        "outputId": "d3813ad7-28c6-47bb-c293-a52eeb68f41e",
        "colab": {
          "base_uri": "https://localhost:8080/",
          "height": 89
        }
      },
      "cell_type": "code",
      "source": [
        "# George Generates Counterfeits\n",
        "G_sample = generator(noise=Z, code=c1)\n",
        "\n",
        "# Danielle Discriminates Real Bills and Counterfeits\n",
        "D_real = discriminator(X)\n",
        "D_fake = discriminator(G_sample, reuse=True)\n",
        "Q_c_given_x = Q(G_sample)\n",
        "\n",
        "# GANs Objective Function\n",
        "loss_D = tf.reduce_mean(tf.log(D_real) + tf.log(1 - D_fake))\n",
        "loss_G = tf.reduce_mean(tf.log(D_fake))\n",
        "loss_Q = tf.reduce_mean(-tf.reduce_sum(tf.log(Q_c_given_x) * c1, 1))"
      ],
      "execution_count": null,
      "outputs": [
        {
          "output_type": "stream",
          "text": [
            "WARNING:tensorflow:From /usr/local/lib/python3.6/dist-packages/tensorflow/python/framework/op_def_library.py:263: colocate_with (from tensorflow.python.framework.ops) is deprecated and will be removed in a future version.\n",
            "Instructions for updating:\n",
            "Colocations handled automatically by placer.\n"
          ],
          "name": "stdout"
        }
      ]
    },
    {
      "metadata": {
        "id": "2kpei7bp1QVr",
        "outputId": "fdddaedb-a3fa-4b65-ff1c-085ab48b78cd",
        "colab": {
          "base_uri": "https://localhost:8080/",
          "height": 69
        }
      },
      "cell_type": "code",
      "source": [
        "# Collect George's and Danielle's Variables\n",
        "D_var_list = tf.get_collection(tf.GraphKeys.GLOBAL_VARIABLES, scope=\"danielle\")\n",
        "G_var_list = tf.get_collection(tf.GraphKeys.GLOBAL_VARIABLES, scope=\"george\")\n",
        "Q_var_list = tf.get_collection(tf.GraphKeys.GLOBAL_VARIABLES, scope=\"aux_distribution\")\n",
        "\n",
        "# Optimization using Adam Optimizer\n",
        "train_D = tf.train.AdamOptimizer(learning_rate).minimize(-loss_D, var_list=D_var_list)\n",
        "train_G = tf.train.AdamOptimizer(learning_rate).minimize(-loss_G, var_list=G_var_list)\n",
        "train_Q = tf.train.AdamOptimizer(learning_rate).minimize(loss_Q, var_list=G_var_list + Q_var_list)"
      ],
      "execution_count": null,
      "outputs": [
        {
          "output_type": "stream",
          "text": [
            "WARNING:tensorflow:From /usr/local/lib/python3.6/dist-packages/tensorflow/python/ops/math_ops.py:3066: to_int32 (from tensorflow.python.ops.math_ops) is deprecated and will be removed in a future version.\n",
            "Instructions for updating:\n",
            "Use tf.cast instead.\n"
          ],
          "name": "stdout"
        }
      ]
    },
    {
      "metadata": {
        "id": "ScyiucWE1QYS",
        "outputId": "f012dd02-c41a-406b-f985-dd1fc00b80e7",
        "colab": {
          "base_uri": "https://localhost:8080/",
          "height": 2355
        }
      },
      "cell_type": "code",
      "source": [
        "# Nerual Networks Training\n",
        "sess = tf.Session()\n",
        "sess.run(tf.global_variables_initializer())\n",
        "\n",
        "total_batch = int(mnist.train.num_examples / batch_size)\n",
        "loss_var_D, loss_var_G = 0, 0\n",
        "\n",
        "for epoch in range(epochs):\n",
        "    for batch in range(total_batch):\n",
        "        batch_x, _ = mnist.train.next_batch(batch_size)\n",
        "        noise = get_noise(batch_size, n_noise)\n",
        "        code = get_code(batch_size)\n",
        "\n",
        "        _, loss_val_D = sess.run([train_D, loss_D], feed_dict={X: batch_x, Z: noise, c1: code})\n",
        "        _, loss_val_G = sess.run([train_G, loss_G], feed_dict={Z: noise, c1: code})\n",
        "        sess.run([train_Q], feed_dict={Z: noise, c1: code})\n",
        "\n",
        "    print(\"Epoch:\", \"%04d\" % epoch, \"D loss: {:.4}\".format(loss_val_D), \"G loss: {:.4}\".format(loss_val_G))\n",
        "\n",
        "\n",
        "    if epoch == 0 or (epoch + 1) % 10 == 0:\n",
        "        sample_size = 10\n",
        "        noise = get_noise(sample_size, n_noise)\n",
        "        code1 = get_code(sample_size)\n",
        "\n",
        "        generated_samples = sess.run(G_sample, feed_dict={Z: noise, c1: np.eye(sample_size)})\n",
        "\n",
        "        fig, ax = plt.subplots(1, sample_size, figsize=(sample_size, 1))\n",
        "\n",
        "        for i in range(sample_size):\n",
        "            ax[i].set_axis_off()\n",
        "            ax[i].imshow(np.reshape(generated_samples[i], (28, 28)))\n",
        "\n",
        "        plt.savefig(\"./{}.png\".format(str(epoch).zfill(3)), bbox_inches=\"tight\")\n",
        "        plt.close(fig)\n",
        "\n",
        "print(\"Optimization Complete!\")"
      ],
      "execution_count": null,
      "outputs": [
        {
          "output_type": "stream",
          "text": [
            "Epoch: 0000 D loss: -0.1398 G loss: -3.433\n",
            "Epoch: 0001 D loss: -0.551 G loss: -2.6\n",
            "Epoch: 0002 D loss: -1.032 G loss: -1.715\n",
            "Epoch: 0003 D loss: -0.9252 G loss: -1.819\n",
            "Epoch: 0004 D loss: -1.623 G loss: -1.349\n",
            "Epoch: 0005 D loss: -1.485 G loss: -0.9913\n",
            "Epoch: 0006 D loss: -1.205 G loss: -1.15\n",
            "Epoch: 0007 D loss: -1.246 G loss: -1.038\n",
            "Epoch: 0008 D loss: -1.49 G loss: -0.8649\n",
            "Epoch: 0009 D loss: -1.157 G loss: -1.203\n",
            "Epoch: 0010 D loss: -0.9454 G loss: -1.26\n",
            "Epoch: 0011 D loss: -1.313 G loss: -0.8708\n",
            "Epoch: 0012 D loss: -1.135 G loss: -0.9294\n",
            "Epoch: 0013 D loss: -0.9649 G loss: -1.302\n",
            "Epoch: 0014 D loss: -1.086 G loss: -0.9939\n",
            "Epoch: 0015 D loss: -1.591 G loss: -0.8045\n",
            "Epoch: 0016 D loss: -1.204 G loss: -1.025\n",
            "Epoch: 0017 D loss: -1.197 G loss: -0.8838\n",
            "Epoch: 0018 D loss: -1.341 G loss: -0.8938\n",
            "Epoch: 0019 D loss: -1.319 G loss: -0.8213\n",
            "Epoch: 0020 D loss: -1.196 G loss: -0.8646\n",
            "Epoch: 0021 D loss: -1.282 G loss: -0.8858\n",
            "Epoch: 0022 D loss: -1.462 G loss: -0.9502\n",
            "Epoch: 0023 D loss: -1.044 G loss: -1.126\n",
            "Epoch: 0024 D loss: -1.504 G loss: -0.7644\n",
            "Epoch: 0025 D loss: -1.139 G loss: -1.019\n",
            "Epoch: 0026 D loss: -1.091 G loss: -1.082\n",
            "Epoch: 0027 D loss: -1.107 G loss: -0.8921\n",
            "Epoch: 0028 D loss: -1.431 G loss: -0.9435\n",
            "Epoch: 0029 D loss: -1.311 G loss: -0.8169\n",
            "Epoch: 0030 D loss: -1.31 G loss: -0.9137\n",
            "Epoch: 0031 D loss: -1.135 G loss: -1.003\n",
            "Epoch: 0032 D loss: -1.237 G loss: -0.9084\n",
            "Epoch: 0033 D loss: -1.244 G loss: -0.8557\n",
            "Epoch: 0034 D loss: -1.326 G loss: -0.8948\n",
            "Epoch: 0035 D loss: -1.146 G loss: -1.042\n",
            "Epoch: 0036 D loss: -1.188 G loss: -0.9892\n",
            "Epoch: 0037 D loss: -1.192 G loss: -0.8914\n",
            "Epoch: 0038 D loss: -1.225 G loss: -0.9039\n",
            "Epoch: 0039 D loss: -1.278 G loss: -0.8824\n",
            "Epoch: 0040 D loss: -1.276 G loss: -0.937\n",
            "Epoch: 0041 D loss: -1.225 G loss: -0.8967\n",
            "Epoch: 0042 D loss: -1.261 G loss: -0.9362\n",
            "Epoch: 0043 D loss: -1.298 G loss: -1.109\n",
            "Epoch: 0044 D loss: -1.229 G loss: -1.016\n",
            "Epoch: 0045 D loss: -1.327 G loss: -0.7685\n",
            "Epoch: 0046 D loss: -1.372 G loss: -0.8451\n",
            "Epoch: 0047 D loss: -1.2 G loss: -1.005\n",
            "Epoch: 0048 D loss: -1.269 G loss: -1.015\n",
            "Epoch: 0049 D loss: -1.394 G loss: -1.033\n",
            "Epoch: 0050 D loss: -1.156 G loss: -1.01\n",
            "Epoch: 0051 D loss: -1.261 G loss: -1.01\n",
            "Epoch: 0052 D loss: -1.36 G loss: -0.9243\n",
            "Epoch: 0053 D loss: -1.192 G loss: -0.9398\n",
            "Epoch: 0054 D loss: -1.169 G loss: -1.096\n",
            "Epoch: 0055 D loss: -1.154 G loss: -0.9161\n",
            "Epoch: 0056 D loss: -1.395 G loss: -0.8772\n",
            "Epoch: 0057 D loss: -1.152 G loss: -0.8783\n",
            "Epoch: 0058 D loss: -1.246 G loss: -0.8204\n",
            "Epoch: 0059 D loss: -1.156 G loss: -1.067\n",
            "Epoch: 0060 D loss: -1.102 G loss: -1.09\n",
            "Epoch: 0061 D loss: -1.176 G loss: -1.073\n",
            "Epoch: 0062 D loss: -1.21 G loss: -1.096\n",
            "Epoch: 0063 D loss: -1.251 G loss: -0.9234\n",
            "Epoch: 0064 D loss: -1.321 G loss: -1.039\n",
            "Epoch: 0065 D loss: -0.9769 G loss: -1.104\n",
            "Epoch: 0066 D loss: -1.289 G loss: -0.9571\n",
            "Epoch: 0067 D loss: -1.093 G loss: -1.134\n",
            "Epoch: 0068 D loss: -1.096 G loss: -1.069\n",
            "Epoch: 0069 D loss: -1.194 G loss: -1.169\n",
            "Epoch: 0070 D loss: -0.02299 G loss: -inf\n",
            "Epoch: 0071 D loss: -0.0004297 G loss: -inf\n",
            "Epoch: 0072 D loss: -0.0001936 G loss: -inf\n",
            "Epoch: 0073 D loss: -4.163e-05 G loss: -inf\n",
            "Epoch: 0074 D loss: -2.254e-05 G loss: -inf\n",
            "Epoch: 0075 D loss: -1.417e-06 G loss: -inf\n",
            "Epoch: 0076 D loss: -6.668e-07 G loss: -inf\n",
            "Epoch: 0077 D loss: -4.47e-08 G loss: -inf\n",
            "Epoch: 0078 D loss: -1.36e-07 G loss: -inf\n",
            "Epoch: 0079 D loss: -1.304e-08 G loss: -inf\n"
          ],
          "name": "stdout"
        },
        {
          "output_type": "error",
          "ename": "KeyboardInterrupt",
          "evalue": "ignored",
          "traceback": [
            "\u001b[0;31m---------------------------------------------------------------------------\u001b[0m",
            "\u001b[0;31mKeyboardInterrupt\u001b[0m                         Traceback (most recent call last)",
            "\u001b[0;32m<ipython-input-11-d61a1781659d>\u001b[0m in \u001b[0;36m<module>\u001b[0;34m()\u001b[0m\n\u001b[1;32m     11\u001b[0m         \u001b[0mcode\u001b[0m \u001b[0;34m=\u001b[0m \u001b[0mget_code\u001b[0m\u001b[0;34m(\u001b[0m\u001b[0mbatch_size\u001b[0m\u001b[0;34m)\u001b[0m\u001b[0;34m\u001b[0m\u001b[0;34m\u001b[0m\u001b[0m\n\u001b[1;32m     12\u001b[0m \u001b[0;34m\u001b[0m\u001b[0m\n\u001b[0;32m---> 13\u001b[0;31m         \u001b[0m_\u001b[0m\u001b[0;34m,\u001b[0m \u001b[0mloss_val_D\u001b[0m \u001b[0;34m=\u001b[0m \u001b[0msess\u001b[0m\u001b[0;34m.\u001b[0m\u001b[0mrun\u001b[0m\u001b[0;34m(\u001b[0m\u001b[0;34m[\u001b[0m\u001b[0mtrain_D\u001b[0m\u001b[0;34m,\u001b[0m \u001b[0mloss_D\u001b[0m\u001b[0;34m]\u001b[0m\u001b[0;34m,\u001b[0m \u001b[0mfeed_dict\u001b[0m\u001b[0;34m=\u001b[0m\u001b[0;34m{\u001b[0m\u001b[0mX\u001b[0m\u001b[0;34m:\u001b[0m \u001b[0mbatch_x\u001b[0m\u001b[0;34m,\u001b[0m \u001b[0mZ\u001b[0m\u001b[0;34m:\u001b[0m \u001b[0mnoise\u001b[0m\u001b[0;34m,\u001b[0m \u001b[0mc1\u001b[0m\u001b[0;34m:\u001b[0m \u001b[0mcode\u001b[0m\u001b[0;34m}\u001b[0m\u001b[0;34m)\u001b[0m\u001b[0;34m\u001b[0m\u001b[0;34m\u001b[0m\u001b[0m\n\u001b[0m\u001b[1;32m     14\u001b[0m         \u001b[0m_\u001b[0m\u001b[0;34m,\u001b[0m \u001b[0mloss_val_G\u001b[0m \u001b[0;34m=\u001b[0m \u001b[0msess\u001b[0m\u001b[0;34m.\u001b[0m\u001b[0mrun\u001b[0m\u001b[0;34m(\u001b[0m\u001b[0;34m[\u001b[0m\u001b[0mtrain_G\u001b[0m\u001b[0;34m,\u001b[0m \u001b[0mloss_G\u001b[0m\u001b[0;34m]\u001b[0m\u001b[0;34m,\u001b[0m \u001b[0mfeed_dict\u001b[0m\u001b[0;34m=\u001b[0m\u001b[0;34m{\u001b[0m\u001b[0mZ\u001b[0m\u001b[0;34m:\u001b[0m \u001b[0mnoise\u001b[0m\u001b[0;34m,\u001b[0m \u001b[0mc1\u001b[0m\u001b[0;34m:\u001b[0m \u001b[0mcode\u001b[0m\u001b[0;34m}\u001b[0m\u001b[0;34m)\u001b[0m\u001b[0;34m\u001b[0m\u001b[0;34m\u001b[0m\u001b[0m\n\u001b[1;32m     15\u001b[0m         \u001b[0msess\u001b[0m\u001b[0;34m.\u001b[0m\u001b[0mrun\u001b[0m\u001b[0;34m(\u001b[0m\u001b[0;34m[\u001b[0m\u001b[0mtrain_Q\u001b[0m\u001b[0;34m]\u001b[0m\u001b[0;34m,\u001b[0m \u001b[0mfeed_dict\u001b[0m\u001b[0;34m=\u001b[0m\u001b[0;34m{\u001b[0m\u001b[0mZ\u001b[0m\u001b[0;34m:\u001b[0m \u001b[0mnoise\u001b[0m\u001b[0;34m,\u001b[0m \u001b[0mc1\u001b[0m\u001b[0;34m:\u001b[0m \u001b[0mcode\u001b[0m\u001b[0;34m}\u001b[0m\u001b[0;34m)\u001b[0m\u001b[0;34m\u001b[0m\u001b[0;34m\u001b[0m\u001b[0m\n",
            "\u001b[0;32m/usr/local/lib/python3.6/dist-packages/tensorflow/python/client/session.py\u001b[0m in \u001b[0;36mrun\u001b[0;34m(self, fetches, feed_dict, options, run_metadata)\u001b[0m\n\u001b[1;32m    927\u001b[0m     \u001b[0;32mtry\u001b[0m\u001b[0;34m:\u001b[0m\u001b[0;34m\u001b[0m\u001b[0;34m\u001b[0m\u001b[0m\n\u001b[1;32m    928\u001b[0m       result = self._run(None, fetches, feed_dict, options_ptr,\n\u001b[0;32m--> 929\u001b[0;31m                          run_metadata_ptr)\n\u001b[0m\u001b[1;32m    930\u001b[0m       \u001b[0;32mif\u001b[0m \u001b[0mrun_metadata\u001b[0m\u001b[0;34m:\u001b[0m\u001b[0;34m\u001b[0m\u001b[0;34m\u001b[0m\u001b[0m\n\u001b[1;32m    931\u001b[0m         \u001b[0mproto_data\u001b[0m \u001b[0;34m=\u001b[0m \u001b[0mtf_session\u001b[0m\u001b[0;34m.\u001b[0m\u001b[0mTF_GetBuffer\u001b[0m\u001b[0;34m(\u001b[0m\u001b[0mrun_metadata_ptr\u001b[0m\u001b[0;34m)\u001b[0m\u001b[0;34m\u001b[0m\u001b[0;34m\u001b[0m\u001b[0m\n",
            "\u001b[0;32m/usr/local/lib/python3.6/dist-packages/tensorflow/python/client/session.py\u001b[0m in \u001b[0;36m_run\u001b[0;34m(self, handle, fetches, feed_dict, options, run_metadata)\u001b[0m\n\u001b[1;32m   1150\u001b[0m     \u001b[0;32mif\u001b[0m \u001b[0mfinal_fetches\u001b[0m \u001b[0;32mor\u001b[0m \u001b[0mfinal_targets\u001b[0m \u001b[0;32mor\u001b[0m \u001b[0;34m(\u001b[0m\u001b[0mhandle\u001b[0m \u001b[0;32mand\u001b[0m \u001b[0mfeed_dict_tensor\u001b[0m\u001b[0;34m)\u001b[0m\u001b[0;34m:\u001b[0m\u001b[0;34m\u001b[0m\u001b[0;34m\u001b[0m\u001b[0m\n\u001b[1;32m   1151\u001b[0m       results = self._do_run(handle, final_targets, final_fetches,\n\u001b[0;32m-> 1152\u001b[0;31m                              feed_dict_tensor, options, run_metadata)\n\u001b[0m\u001b[1;32m   1153\u001b[0m     \u001b[0;32melse\u001b[0m\u001b[0;34m:\u001b[0m\u001b[0;34m\u001b[0m\u001b[0;34m\u001b[0m\u001b[0m\n\u001b[1;32m   1154\u001b[0m       \u001b[0mresults\u001b[0m \u001b[0;34m=\u001b[0m \u001b[0;34m[\u001b[0m\u001b[0;34m]\u001b[0m\u001b[0;34m\u001b[0m\u001b[0;34m\u001b[0m\u001b[0m\n",
            "\u001b[0;32m/usr/local/lib/python3.6/dist-packages/tensorflow/python/client/session.py\u001b[0m in \u001b[0;36m_do_run\u001b[0;34m(self, handle, target_list, fetch_list, feed_dict, options, run_metadata)\u001b[0m\n\u001b[1;32m   1326\u001b[0m     \u001b[0;32mif\u001b[0m \u001b[0mhandle\u001b[0m \u001b[0;32mis\u001b[0m \u001b[0;32mNone\u001b[0m\u001b[0;34m:\u001b[0m\u001b[0;34m\u001b[0m\u001b[0;34m\u001b[0m\u001b[0m\n\u001b[1;32m   1327\u001b[0m       return self._do_call(_run_fn, feeds, fetches, targets, options,\n\u001b[0;32m-> 1328\u001b[0;31m                            run_metadata)\n\u001b[0m\u001b[1;32m   1329\u001b[0m     \u001b[0;32melse\u001b[0m\u001b[0;34m:\u001b[0m\u001b[0;34m\u001b[0m\u001b[0;34m\u001b[0m\u001b[0m\n\u001b[1;32m   1330\u001b[0m       \u001b[0;32mreturn\u001b[0m \u001b[0mself\u001b[0m\u001b[0;34m.\u001b[0m\u001b[0m_do_call\u001b[0m\u001b[0;34m(\u001b[0m\u001b[0m_prun_fn\u001b[0m\u001b[0;34m,\u001b[0m \u001b[0mhandle\u001b[0m\u001b[0;34m,\u001b[0m \u001b[0mfeeds\u001b[0m\u001b[0;34m,\u001b[0m \u001b[0mfetches\u001b[0m\u001b[0;34m)\u001b[0m\u001b[0;34m\u001b[0m\u001b[0;34m\u001b[0m\u001b[0m\n",
            "\u001b[0;32m/usr/local/lib/python3.6/dist-packages/tensorflow/python/client/session.py\u001b[0m in \u001b[0;36m_do_call\u001b[0;34m(self, fn, *args)\u001b[0m\n\u001b[1;32m   1332\u001b[0m   \u001b[0;32mdef\u001b[0m \u001b[0m_do_call\u001b[0m\u001b[0;34m(\u001b[0m\u001b[0mself\u001b[0m\u001b[0;34m,\u001b[0m \u001b[0mfn\u001b[0m\u001b[0;34m,\u001b[0m \u001b[0;34m*\u001b[0m\u001b[0margs\u001b[0m\u001b[0;34m)\u001b[0m\u001b[0;34m:\u001b[0m\u001b[0;34m\u001b[0m\u001b[0;34m\u001b[0m\u001b[0m\n\u001b[1;32m   1333\u001b[0m     \u001b[0;32mtry\u001b[0m\u001b[0;34m:\u001b[0m\u001b[0;34m\u001b[0m\u001b[0;34m\u001b[0m\u001b[0m\n\u001b[0;32m-> 1334\u001b[0;31m       \u001b[0;32mreturn\u001b[0m \u001b[0mfn\u001b[0m\u001b[0;34m(\u001b[0m\u001b[0;34m*\u001b[0m\u001b[0margs\u001b[0m\u001b[0;34m)\u001b[0m\u001b[0;34m\u001b[0m\u001b[0;34m\u001b[0m\u001b[0m\n\u001b[0m\u001b[1;32m   1335\u001b[0m     \u001b[0;32mexcept\u001b[0m \u001b[0merrors\u001b[0m\u001b[0;34m.\u001b[0m\u001b[0mOpError\u001b[0m \u001b[0;32mas\u001b[0m \u001b[0me\u001b[0m\u001b[0;34m:\u001b[0m\u001b[0;34m\u001b[0m\u001b[0;34m\u001b[0m\u001b[0m\n\u001b[1;32m   1336\u001b[0m       \u001b[0mmessage\u001b[0m \u001b[0;34m=\u001b[0m \u001b[0mcompat\u001b[0m\u001b[0;34m.\u001b[0m\u001b[0mas_text\u001b[0m\u001b[0;34m(\u001b[0m\u001b[0me\u001b[0m\u001b[0;34m.\u001b[0m\u001b[0mmessage\u001b[0m\u001b[0;34m)\u001b[0m\u001b[0;34m\u001b[0m\u001b[0;34m\u001b[0m\u001b[0m\n",
            "\u001b[0;32m/usr/local/lib/python3.6/dist-packages/tensorflow/python/client/session.py\u001b[0m in \u001b[0;36m_run_fn\u001b[0;34m(feed_dict, fetch_list, target_list, options, run_metadata)\u001b[0m\n\u001b[1;32m   1317\u001b[0m       \u001b[0mself\u001b[0m\u001b[0;34m.\u001b[0m\u001b[0m_extend_graph\u001b[0m\u001b[0;34m(\u001b[0m\u001b[0;34m)\u001b[0m\u001b[0;34m\u001b[0m\u001b[0;34m\u001b[0m\u001b[0m\n\u001b[1;32m   1318\u001b[0m       return self._call_tf_sessionrun(\n\u001b[0;32m-> 1319\u001b[0;31m           options, feed_dict, fetch_list, target_list, run_metadata)\n\u001b[0m\u001b[1;32m   1320\u001b[0m \u001b[0;34m\u001b[0m\u001b[0m\n\u001b[1;32m   1321\u001b[0m     \u001b[0;32mdef\u001b[0m \u001b[0m_prun_fn\u001b[0m\u001b[0;34m(\u001b[0m\u001b[0mhandle\u001b[0m\u001b[0;34m,\u001b[0m \u001b[0mfeed_dict\u001b[0m\u001b[0;34m,\u001b[0m \u001b[0mfetch_list\u001b[0m\u001b[0;34m)\u001b[0m\u001b[0;34m:\u001b[0m\u001b[0;34m\u001b[0m\u001b[0;34m\u001b[0m\u001b[0m\n",
            "\u001b[0;32m/usr/local/lib/python3.6/dist-packages/tensorflow/python/client/session.py\u001b[0m in \u001b[0;36m_call_tf_sessionrun\u001b[0;34m(self, options, feed_dict, fetch_list, target_list, run_metadata)\u001b[0m\n\u001b[1;32m   1405\u001b[0m     return tf_session.TF_SessionRun_wrapper(\n\u001b[1;32m   1406\u001b[0m         \u001b[0mself\u001b[0m\u001b[0;34m.\u001b[0m\u001b[0m_session\u001b[0m\u001b[0;34m,\u001b[0m \u001b[0moptions\u001b[0m\u001b[0;34m,\u001b[0m \u001b[0mfeed_dict\u001b[0m\u001b[0;34m,\u001b[0m \u001b[0mfetch_list\u001b[0m\u001b[0;34m,\u001b[0m \u001b[0mtarget_list\u001b[0m\u001b[0;34m,\u001b[0m\u001b[0;34m\u001b[0m\u001b[0;34m\u001b[0m\u001b[0m\n\u001b[0;32m-> 1407\u001b[0;31m         run_metadata)\n\u001b[0m\u001b[1;32m   1408\u001b[0m \u001b[0;34m\u001b[0m\u001b[0m\n\u001b[1;32m   1409\u001b[0m   \u001b[0;32mdef\u001b[0m \u001b[0m_call_tf_sessionprun\u001b[0m\u001b[0;34m(\u001b[0m\u001b[0mself\u001b[0m\u001b[0;34m,\u001b[0m \u001b[0mhandle\u001b[0m\u001b[0;34m,\u001b[0m \u001b[0mfeed_dict\u001b[0m\u001b[0;34m,\u001b[0m \u001b[0mfetch_list\u001b[0m\u001b[0;34m)\u001b[0m\u001b[0;34m:\u001b[0m\u001b[0;34m\u001b[0m\u001b[0;34m\u001b[0m\u001b[0m\n",
            "\u001b[0;31mKeyboardInterrupt\u001b[0m: "
          ]
        }
      ]
    },
    {
      "metadata": {
        "id": "xE9z9BER1cws",
        "outputId": "2a14371c-4420-445c-aeb9-9752421aa169",
        "colab": {
          "base_uri": "https://localhost:8080/",
          "height": 113
        }
      },
      "cell_type": "code",
      "source": [
        "import matplotlib.image as mpimg\n",
        "\n",
        "img = mpimg.imread(\"./069.png\")\n",
        "plt.imshow(img)\n",
        "plt.show()"
      ],
      "execution_count": null,
      "outputs": [
        {
          "output_type": "display_data",
          "data": {
            "image/png": "[encoded data removed]",
            "text/plain": [
              "<Figure size 576x396 with 1 Axes>"
            ]
          },
          "metadata": {
            "tags": []
          }
        }
      ]
    }
  ]
}
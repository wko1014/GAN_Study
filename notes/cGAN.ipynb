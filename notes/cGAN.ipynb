{
  "nbformat": 4,
  "nbformat_minor": 0,
  "metadata": {
    "colab": {
      "name": "conditional_gan.ipynb",
      "provenance": [],
      "collapsed_sections": [],
      "include_colab_link": true
    },
    "kernelspec": {
      "name": "python3",
      "display_name": "Python 3"
    },
    "accelerator": "TPU"
  },
  "cells": [
    {
      "cell_type": "markdown",
      "metadata": {
        "id": "view-in-github",
        "colab_type": "text"
      },
      "source": [
        "<a href=\"https://colab.research.google.com/github/wko1014/GAN_Study/blob/main/notes/cGAN.ipynb\" target=\"_parent\"><img src=\"https://colab.research.google.com/assets/colab-badge.svg\" alt=\"Open In Colab\"/></a>"
      ]
    },
    {
      "metadata": {
        "id": "r98j0af6ANSP"
      },
      "cell_type": "code",
      "source": [
        "# Import APIs\n",
        "import tensorflow as tf\n",
        "import matplotlib.pyplot as plt\n",
        "import numpy as np"
      ],
      "execution_count": null,
      "outputs": []
    },
    {
      "metadata": {
        "id": "65VZbOS9Acc2",
        "colab": {
          "base_uri": "https://localhost:8080/",
          "height": 86
        },
        "outputId": "059d0f58-6885-4d19-9452-c7c631f6eca0"
      },
      "cell_type": "code",
      "source": [
        "# Download MNIST Dataset\n",
        "from tensorflow.examples.tutorials.mnist import input_data\n",
        "mnist = input_data.read_data_sets(\"./MNIST_data/data/\", one_hot=True)"
      ],
      "execution_count": null,
      "outputs": [
        {
          "output_type": "stream",
          "text": [
            "Extracting ./MNIST_data/data/train-images-idx3-ubyte.gz\n",
            "Extracting ./MNIST_data/data/train-labels-idx1-ubyte.gz\n",
            "Extracting ./MNIST_data/data/t10k-images-idx3-ubyte.gz\n",
            "Extracting ./MNIST_data/data/t10k-labels-idx1-ubyte.gz\n"
          ],
          "name": "stdout"
        }
      ]
    },
    {
      "metadata": {
        "id": "CyiRkKBkAdzn"
      },
      "cell_type": "code",
      "source": [
        "# Define Hyperparameters and Placehoders\n",
        "epochs = 100\n",
        "batch_size = 100\n",
        "learning_rate = 0.0002\n",
        "n_noise = 128\n",
        "n_image = 28 * 28 # The size of MNIST\n",
        "n_class = 10 # 0~9\n",
        "\n",
        "X = tf.placeholder(tf.float32, [None, n_image])\n",
        "Y = tf.placeholder(tf.float32, [None, n_class])\n",
        "Z = tf.placeholder(tf.float32, [None, n_noise])"
      ],
      "execution_count": null,
      "outputs": []
    },
    {
      "metadata": {
        "id": "wAQVYpzWAjTb"
      },
      "cell_type": "code",
      "source": [
        "# Define Modules\n",
        "def get_params(name, shape):\n",
        "  weight = tf.get_variable(name=name+\"w\", shape=shape, initializer=tf.random_normal_initializer(stddev=0.01))\n",
        "  filtercnt = shape[-1]\n",
        "  bias = tf.get_variable(name=name+\"b\", shape=[filtercnt], initializer=tf.zeros_initializer)\n",
        "  return weight, bias"
      ],
      "execution_count": null,
      "outputs": []
    },
    {
      "metadata": {
        "id": "DBU-s6zRAljt"
      },
      "cell_type": "code",
      "source": [
        "# Define Generator (George)\n",
        "def generator(noise, labels):\n",
        "    with tf.variable_scope(\"george\"):\n",
        "        inputs = tf.concat([noise, labels], axis=1)\n",
        "\n",
        "        G_w1, G_b1 = get_params(name=\"g_layer1\", shape=[n_noise + n_class, 256])\n",
        "        layer1 = tf.nn.relu(tf.matmul(inputs, G_w1) + G_b1)\n",
        "\n",
        "        G_wo, G_bo = get_params(name=\"g_output_layer\", shape=[256, n_image])\n",
        "        output = tf.nn.sigmoid(tf.matmul(layer1, G_wo) + G_bo)\n",
        "    return output"
      ],
      "execution_count": null,
      "outputs": []
    },
    {
      "metadata": {
        "id": "GxOZOQ80AlqU"
      },
      "cell_type": "code",
      "source": [
        "# Define Discriminator (Danielle)\n",
        "def discriminator(image, labels, reuse=False):\n",
        "    with tf.variable_scope(\"danielle\", reuse=reuse):\n",
        "        inputs = tf.concat([image, labels], axis=1)\n",
        "\n",
        "        D_w1, D_b1 = get_params(name=\"d_layer1\", shape=[n_image + n_class, 256])\n",
        "        layer1 = tf.nn.relu(tf.matmul(inputs, D_w1) + D_b1)\n",
        "\n",
        "        D_wo, D_bo = get_params(name=\"d_output_layer\", shape=[256, 1])\n",
        "        output = tf.nn.sigmoid(tf.matmul(layer1, D_wo) + D_bo)\n",
        "    return output"
      ],
      "execution_count": null,
      "outputs": []
    },
    {
      "metadata": {
        "id": "bYNkO0TzAlso",
        "colab": {
          "base_uri": "https://localhost:8080/",
          "height": 69
        },
        "outputId": "6a69a923-880f-416a-e40c-898eee68ccdb"
      },
      "cell_type": "code",
      "source": [
        "# Sample Random Noise Vector\n",
        "def get_noise(batch_size, n_noise):\n",
        "  # return np.random.uniform(size=(batch_size, n_noise))\n",
        "  return np.random.normal(size=(batch_size, n_noise))\n",
        "\n",
        "# George Generates Counterfeits\n",
        "counterfeits = generator(noise=Z, labels=Y)\n",
        "\n",
        "# Danielle Discriminates Real Bills and Counterfeits\n",
        "D_counterfeits = discriminator(counterfeits, Y)\n",
        "D_real = discriminator(X, Y, reuse=True)"
      ],
      "execution_count": null,
      "outputs": [
        {
          "output_type": "stream",
          "text": [
            "WARNING:tensorflow:From /usr/local/lib/python3.6/dist-packages/tensorflow/python/framework/op_def_library.py:263: colocate_with (from tensorflow.python.framework.ops) is deprecated and will be removed in a future version.\n",
            "Instructions for updating:\n",
            "Colocations handled automatically by placer.\n"
          ],
          "name": "stdout"
        }
      ]
    },
    {
      "metadata": {
        "id": "x4Bs-J2iAluo"
      },
      "cell_type": "code",
      "source": [
        "# GANs Objective Function\n",
        "loss_D = tf.reduce_mean(tf.log(D_real) + tf.log(1 - D_counterfeits))\n",
        "loss_G = tf.reduce_mean(tf.log(1 - D_counterfeits))\n",
        "\n",
        "# Collect George's and Danielle's Variables\n",
        "D_var_list = tf.get_collection(tf.GraphKeys.GLOBAL_VARIABLES, scope=\"danielle\")\n",
        "G_var_list = tf.get_collection(tf.GraphKeys.GLOBAL_VARIABLES, scope=\"george\")\n",
        "\n",
        "# Optimization using Adam Optimizer\n",
        "train_D = tf.train.AdamOptimizer(learning_rate).minimize(-loss_D, var_list=D_var_list)\n",
        "train_G = tf.train.AdamOptimizer(learning_rate).minimize(loss_G, var_list=G_var_list)"
      ],
      "execution_count": null,
      "outputs": []
    },
    {
      "metadata": {
        "id": "vuqSwB60Alw8",
        "colab": {
          "base_uri": "https://localhost:8080/",
          "height": 1771
        },
        "outputId": "d7e2f72f-72cd-4cbb-a9b0-bc9f046c051d"
      },
      "cell_type": "code",
      "source": [
        "# Nerual Networks Training\n",
        "sess = tf.Session()\n",
        "sess.run(tf.global_variables_initializer())\n",
        "\n",
        "total_batch = int(mnist.train.num_examples / batch_size)\n",
        "loss_var_D, loss_var_G = 0, 0\n",
        "\n",
        "for epoch in range(epochs):\n",
        "    for batch in range(total_batch):\n",
        "        batch_x, batch_y = mnist.train.next_batch(batch_size)\n",
        "        noise = get_noise(batch_size, n_noise)\n",
        "\n",
        "        _, loss_val_D = sess.run([train_D, loss_D], feed_dict={X: batch_x, Y:batch_y, Z: noise})\n",
        "        _, loss_val_G = sess.run([train_G, loss_G], feed_dict={Y: batch_y, Z: noise})\n",
        "\n",
        "\n",
        "    print(\"Epoch:\", \"%04d\" % epoch, \"D loss: {:.4}\".format(loss_val_D), \"G loss: {:.4}\".format(loss_val_G))\n",
        "\n",
        "\n",
        "    if epoch == 0 or (epoch + 1) % 10 == 0:\n",
        "        sample_size = 10\n",
        "        noise = get_noise(sample_size, n_noise)\n",
        "        generated_samples = sess.run(counterfeits, feed_dict={Y: np.eye(sample_size), Z: noise})\n",
        "\n",
        "        fig, ax = plt.subplots(1, sample_size, figsize=(sample_size, 1))\n",
        "\n",
        "        for i in range(sample_size):\n",
        "            ax[i].set_axis_off()\n",
        "            ax[i].imshow(np.reshape(generated_samples[i], (28, 28)))\n",
        "\n",
        "        plt.savefig(\"./{}.png\".format(str(epoch).zfill(3)), bbox_inches=\"tight\")\n",
        "        plt.close(fig)\n",
        "\n",
        "print(\"Optimization Complete!\")"
      ],
      "execution_count": null,
      "outputs": [
        {
          "output_type": "stream",
          "text": [
            "Epoch: 0000 D loss: -0.2571 G loss: -0.07612\n",
            "Epoch: 0001 D loss: -0.1077 G loss: -0.04438\n",
            "Epoch: 0002 D loss: -0.0499 G loss: -0.02027\n",
            "Epoch: 0003 D loss: -0.09698 G loss: -0.04209\n",
            "Epoch: 0004 D loss: -0.3631 G loss: -0.2049\n",
            "Epoch: 0005 D loss: -0.06476 G loss: -0.03243\n",
            "Epoch: 0006 D loss: -0.2415 G loss: -0.07803\n",
            "Epoch: 0007 D loss: -0.1875 G loss: -0.08236\n",
            "Epoch: 0008 D loss: -0.3178 G loss: -0.145\n",
            "Epoch: 0009 D loss: -0.1205 G loss: -0.04395\n",
            "Epoch: 0010 D loss: -0.1893 G loss: -0.09223\n",
            "Epoch: 0011 D loss: -0.2998 G loss: -0.0911\n",
            "Epoch: 0012 D loss: -0.2434 G loss: -0.1162\n",
            "Epoch: 0013 D loss: -0.1584 G loss: -0.07268\n",
            "Epoch: 0014 D loss: -0.6223 G loss: -0.223\n",
            "Epoch: 0015 D loss: -0.3367 G loss: -0.1028\n",
            "Epoch: 0016 D loss: -0.2903 G loss: -0.1084\n",
            "Epoch: 0017 D loss: -0.1478 G loss: -0.08511\n",
            "Epoch: 0018 D loss: -0.1828 G loss: -0.07755\n",
            "Epoch: 0019 D loss: -0.2633 G loss: -0.1031\n",
            "Epoch: 0020 D loss: -0.2973 G loss: -0.1087\n",
            "Epoch: 0021 D loss: -0.277 G loss: -0.117\n",
            "Epoch: 0022 D loss: -0.3143 G loss: -0.1803\n",
            "Epoch: 0023 D loss: -0.2986 G loss: -0.1698\n",
            "Epoch: 0024 D loss: -0.4273 G loss: -0.1824\n",
            "Epoch: 0025 D loss: -0.4085 G loss: -0.1563\n",
            "Epoch: 0026 D loss: -0.3116 G loss: -0.07654\n",
            "Epoch: 0027 D loss: -0.2869 G loss: -0.1307\n",
            "Epoch: 0028 D loss: -0.4382 G loss: -0.1778\n",
            "Epoch: 0029 D loss: -0.234 G loss: -0.1207\n",
            "Epoch: 0030 D loss: -0.1839 G loss: -0.09659\n",
            "Epoch: 0031 D loss: -0.3792 G loss: -0.1852\n",
            "Epoch: 0032 D loss: -0.5602 G loss: -0.3022\n",
            "Epoch: 0033 D loss: -0.416 G loss: -0.1729\n",
            "Epoch: 0034 D loss: -0.9241 G loss: -0.3153\n",
            "Epoch: 0035 D loss: -0.6995 G loss: -0.2958\n",
            "Epoch: 0036 D loss: -0.5506 G loss: -0.1918\n",
            "Epoch: 0037 D loss: -0.6525 G loss: -0.2826\n",
            "Epoch: 0038 D loss: -0.564 G loss: -0.2496\n",
            "Epoch: 0039 D loss: -0.4659 G loss: -0.2136\n",
            "Epoch: 0040 D loss: -0.578 G loss: -0.1859\n",
            "Epoch: 0041 D loss: -0.5658 G loss: -0.2702\n",
            "Epoch: 0042 D loss: -0.3921 G loss: -0.1429\n",
            "Epoch: 0043 D loss: -0.6198 G loss: -0.296\n",
            "Epoch: 0044 D loss: -0.6115 G loss: -0.2452\n",
            "Epoch: 0045 D loss: -0.6993 G loss: -0.2835\n",
            "Epoch: 0046 D loss: -0.542 G loss: -0.2774\n",
            "Epoch: 0047 D loss: -0.6678 G loss: -0.2383\n",
            "Epoch: 0048 D loss: -0.4524 G loss: -0.2171\n",
            "Epoch: 0049 D loss: -0.5229 G loss: -0.1925\n",
            "Epoch: 0050 D loss: -0.6417 G loss: -0.2805\n",
            "Epoch: 0051 D loss: -0.5832 G loss: -0.3135\n",
            "Epoch: 0052 D loss: -0.5961 G loss: -0.2591\n",
            "Epoch: 0053 D loss: -0.3939 G loss: -0.2153\n",
            "Epoch: 0054 D loss: -0.4711 G loss: -0.204\n",
            "Epoch: 0055 D loss: -0.5921 G loss: -0.2863\n",
            "Epoch: 0056 D loss: -0.8661 G loss: -0.3473\n",
            "Epoch: 0057 D loss: -0.7106 G loss: -0.3024\n",
            "Epoch: 0058 D loss: -0.6732 G loss: -0.3284\n",
            "Epoch: 0059 D loss: -0.6912 G loss: -0.2663\n",
            "Epoch: 0060 D loss: -0.6949 G loss: -0.37\n",
            "Epoch: 0061 D loss: -0.6929 G loss: -0.3803\n",
            "Epoch: 0062 D loss: -0.7012 G loss: -0.2793\n",
            "Epoch: 0063 D loss: -0.7745 G loss: -0.2533\n",
            "Epoch: 0064 D loss: -0.7479 G loss: -0.3194\n",
            "Epoch: 0065 D loss: -0.6142 G loss: -0.364\n",
            "Epoch: 0066 D loss: -0.7146 G loss: -0.3724\n",
            "Epoch: 0067 D loss: -0.9074 G loss: -0.4581\n",
            "Epoch: 0068 D loss: -0.6117 G loss: -0.2983\n",
            "Epoch: 0069 D loss: -0.6855 G loss: -0.2737\n",
            "Epoch: 0070 D loss: -0.6665 G loss: -0.3392\n",
            "Epoch: 0071 D loss: -0.6927 G loss: -0.35\n",
            "Epoch: 0072 D loss: -0.6127 G loss: -0.2543\n",
            "Epoch: 0073 D loss: -0.5735 G loss: -0.2739\n",
            "Epoch: 0074 D loss: -0.7096 G loss: -0.3199\n",
            "Epoch: 0075 D loss: -0.7692 G loss: -0.4132\n",
            "Epoch: 0076 D loss: -0.8492 G loss: -0.3237\n",
            "Epoch: 0077 D loss: -0.8251 G loss: -0.3318\n",
            "Epoch: 0078 D loss: -0.7046 G loss: -0.3205\n",
            "Epoch: 0079 D loss: -0.7161 G loss: -0.308\n",
            "Epoch: 0080 D loss: -0.8352 G loss: -0.4221\n",
            "Epoch: 0081 D loss: -0.8481 G loss: -0.5281\n",
            "Epoch: 0082 D loss: -0.8587 G loss: -0.4303\n",
            "Epoch: 0083 D loss: -0.7612 G loss: -0.4034\n",
            "Epoch: 0084 D loss: -0.7627 G loss: -0.4161\n",
            "Epoch: 0085 D loss: -0.7554 G loss: -0.3213\n",
            "Epoch: 0086 D loss: -0.8224 G loss: -0.4041\n",
            "Epoch: 0087 D loss: -0.6721 G loss: -0.363\n",
            "Epoch: 0088 D loss: -0.7833 G loss: -0.3169\n",
            "Epoch: 0089 D loss: -0.7812 G loss: -0.2928\n",
            "Epoch: 0090 D loss: -0.8169 G loss: -0.3575\n",
            "Epoch: 0091 D loss: -0.7037 G loss: -0.3926\n",
            "Epoch: 0092 D loss: -0.7417 G loss: -0.3016\n",
            "Epoch: 0093 D loss: -0.7979 G loss: -0.408\n",
            "Epoch: 0094 D loss: -0.583 G loss: -0.2544\n",
            "Epoch: 0095 D loss: -0.8468 G loss: -0.4127\n",
            "Epoch: 0096 D loss: -0.8445 G loss: -0.3323\n",
            "Epoch: 0097 D loss: -0.5693 G loss: -0.3006\n",
            "Epoch: 0098 D loss: -0.7453 G loss: -0.2818\n",
            "Epoch: 0099 D loss: -0.6845 G loss: -0.3066\n",
            "Optimization Complete!\n"
          ],
          "name": "stdout"
        }
      ]
    },
    {
      "metadata": {
        "id": "OXQO4-98AlzH",
        "colab": {
          "base_uri": "https://localhost:8080/",
          "height": 113
        },
        "outputId": "84c9180a-645d-4cf1-da8d-a34e5cdde95f"
      },
      "cell_type": "code",
      "source": [
        "import matplotlib.image as mpimg\n",
        "\n",
        "img = mpimg.imread(\"./099.png\")\n",
        "plt.imshow(img)\n",
        "plt.show()"
      ],
      "execution_count": null,
      "outputs": [
        {
          "output_type": "display_data",
          "data": {
            "image/png": "[encoded data removed]",
            "text/plain": [
              "<Figure size 576x396 with 1 Axes>"
            ]
          },
          "metadata": {
            "tags": []
          }
        }
      ]
    },
    {
      "metadata": {
        "id": "uLfP1UT4Al1d"
      },
      "cell_type": "code",
      "source": [
        ""
      ],
      "execution_count": null,
      "outputs": []
    }
  ]
}
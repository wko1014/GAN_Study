{
  "nbformat": 4,
  "nbformat_minor": 0,
  "metadata": {
    "colab": {
      "name": "Improved_Wasserstein_GANs.ipynb",
      "provenance": [],
      "collapsed_sections": [],
      "include_colab_link": true
    },
    "kernelspec": {
      "name": "python3",
      "display_name": "Python 3"
    },
    "accelerator": "GPU"
  },
  "cells": [
    {
      "cell_type": "markdown",
      "metadata": {
        "id": "view-in-github",
        "colab_type": "text"
      },
      "source": [
        "<a href=\"https://colab.research.google.com/github/wko1014/GAN_Study/blob/main/notes/WGAN-GP.ipynb\" target=\"_parent\"><img src=\"https://colab.research.google.com/assets/colab-badge.svg\" alt=\"Open In Colab\"/></a>"
      ]
    },
    {
      "metadata": {
        "id": "E4-LTFlkP65_"
      },
      "cell_type": "code",
      "source": [
        "import tensorflow as tf\n",
        "from tensorflow.examples.tutorials.mnist import input_data\n",
        "import numpy as np\n",
        "import matplotlib.pyplot as plt\n",
        "import matplotlib.gridspec as gridspec\n",
        "import os"
      ],
      "execution_count": null,
      "outputs": []
    },
    {
      "metadata": {
        "id": "KFTziMlVQBn3"
      },
      "cell_type": "code",
      "source": [
        "mb_size = 32\n",
        "X_dim = 784\n",
        "z_dim = 10\n",
        "h_dim = 128\n",
        "lam = 10\n",
        "n_disc = 5\n",
        "lr = 1e-4\n",
        "\n",
        "mnist = input_data.read_data_sets('../../MNIST_data', one_hot=True)"
      ],
      "execution_count": null,
      "outputs": []
    },
    {
      "metadata": {
        "id": "OYi1I_VtQC6x"
      },
      "cell_type": "code",
      "source": [
        "def plot(samples):\n",
        "    fig = plt.figure(figsize=(4, 4))\n",
        "    gs = gridspec.GridSpec(4, 4)\n",
        "    gs.update(wspace=0.05, hspace=0.05)\n",
        "\n",
        "    for i, sample in enumerate(samples):\n",
        "        ax = plt.subplot(gs[i])\n",
        "        plt.axis('off')\n",
        "        ax.set_xticklabels([])\n",
        "        ax.set_yticklabels([])\n",
        "        ax.set_aspect('equal')\n",
        "        plt.imshow(sample.reshape(28, 28), cmap='Greys_r')\n",
        "\n",
        "    return fig\n",
        "\n",
        "\n",
        "def xavier_init(size):\n",
        "    in_dim = size[0]\n",
        "    xavier_stddev = 1. / tf.sqrt(in_dim / 2.)\n",
        "    return tf.random_normal(shape=size, stddev=xavier_stddev)"
      ],
      "execution_count": null,
      "outputs": []
    },
    {
      "metadata": {
        "id": "GDfCwB05QFEF"
      },
      "cell_type": "code",
      "source": [
        "X = tf.placeholder(tf.float32, shape=[None, X_dim])\n",
        "\n",
        "D_W1 = tf.Variable(xavier_init([X_dim, h_dim]))\n",
        "D_b1 = tf.Variable(tf.zeros(shape=[h_dim]))\n",
        "\n",
        "D_W2 = tf.Variable(xavier_init([h_dim, 1]))\n",
        "D_b2 = tf.Variable(tf.zeros(shape=[1]))\n",
        "\n",
        "theta_D = [D_W1, D_W2, D_b1, D_b2]\n",
        "\n",
        "\n",
        "z = tf.placeholder(tf.float32, shape=[None, z_dim])\n",
        "\n",
        "G_W1 = tf.Variable(xavier_init([z_dim, h_dim]))\n",
        "G_b1 = tf.Variable(tf.zeros(shape=[h_dim]))\n",
        "\n",
        "G_W2 = tf.Variable(xavier_init([h_dim, X_dim]))\n",
        "G_b2 = tf.Variable(tf.zeros(shape=[X_dim]))\n",
        "\n",
        "theta_G = [G_W1, G_W2, G_b1, G_b2]"
      ],
      "execution_count": null,
      "outputs": []
    },
    {
      "metadata": {
        "id": "gK8CcRJ9QGz8"
      },
      "cell_type": "code",
      "source": [
        "def sample_z(m, n):\n",
        "    return np.random.uniform(-1., 1., size=[m, n])\n",
        "\n",
        "\n",
        "def G(z):\n",
        "    G_h1 = tf.nn.relu(tf.matmul(z, G_W1) + G_b1)\n",
        "    G_log_prob = tf.matmul(G_h1, G_W2) + G_b2\n",
        "    G_prob = tf.nn.sigmoid(G_log_prob)\n",
        "    return G_prob\n",
        "\n",
        "\n",
        "def D(X):\n",
        "    D_h1 = tf.nn.relu(tf.matmul(X, D_W1) + D_b1)\n",
        "    out = tf.matmul(D_h1, D_W2) + D_b2\n",
        "    return out"
      ],
      "execution_count": null,
      "outputs": []
    },
    {
      "metadata": {
        "id": "PL9OlJipQI5b"
      },
      "cell_type": "code",
      "source": [
        "G_sample = G(z)\n",
        "D_real = D(X)\n",
        "D_fake = D(G_sample)\n",
        "\n",
        "eps = tf.random_uniform([mb_size, 1], minval=0., maxval=1.)\n",
        "X_inter = eps*X + (1. - eps)*G_sample\n",
        "grad = tf.gradients(D(X_inter), [X_inter])[0]\n",
        "grad_norm = tf.sqrt(tf.reduce_sum((grad)**2, axis=1))\n",
        "grad_pen = lam * tf.reduce_mean((grad_norm - 1)**2)\n",
        "\n",
        "D_loss = tf.reduce_mean(D_fake) - tf.reduce_mean(D_real) + grad_pen\n",
        "G_loss = -tf.reduce_mean(D_fake)\n",
        "\n",
        "D_solver = (tf.train.AdamOptimizer(learning_rate=lr, beta1=0.5)\n",
        "            .minimize(D_loss, var_list=theta_D))\n",
        "G_solver = (tf.train.AdamOptimizer(learning_rate=lr, beta1=0.5)\n",
        "            .minimize(G_loss, var_list=theta_G))\n",
        "\n",
        "sess = tf.Session()\n",
        "sess.run(tf.global_variables_initializer())\n",
        "\n",
        "if not os.path.exists('out/'):\n",
        "    os.makedirs('out/')\n",
        "\n",
        "i = 0"
      ],
      "execution_count": null,
      "outputs": []
    },
    {
      "metadata": {
        "id": "WaiKfVHoQMHL"
      },
      "cell_type": "code",
      "source": [
        "for it in range(1000000):\n",
        "    for _ in range(n_disc):\n",
        "        X_mb, _ = mnist.train.next_batch(mb_size)\n",
        "\n",
        "        _, D_loss_curr = sess.run(\n",
        "            [D_solver, D_loss],\n",
        "            feed_dict={X: X_mb, z: sample_z(mb_size, z_dim)}\n",
        "        )\n",
        "\n",
        "    _, G_loss_curr = sess.run(\n",
        "        [G_solver, G_loss],\n",
        "        feed_dict={z: sample_z(mb_size, z_dim)}\n",
        "    )\n",
        "\n",
        "    if it % 1000 == 0:\n",
        "        print('Iter: {}; D loss: {:.4}; G_loss: {:.4}'\n",
        "              .format(it, D_loss_curr, G_loss_curr))\n",
        "\n",
        "        if it % 1000 == 0:\n",
        "            samples = sess.run(G_sample, feed_dict={z: sample_z(16, z_dim)})\n",
        "\n",
        "            fig = plot(samples)\n",
        "            plt.savefig('out/{}.png'\n",
        "                        .format(str(i).zfill(3)), bbox_inches='tight')\n",
        "            i += 1\n",
        "            plt.close(fig)"
      ],
      "execution_count": null,
      "outputs": []
    }
  ]
}